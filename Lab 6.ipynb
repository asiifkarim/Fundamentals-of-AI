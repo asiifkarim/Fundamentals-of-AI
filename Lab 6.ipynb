{
 "cells": [
  {
   "cell_type": "markdown",
   "id": "ae0db850-9fbb-43ad-bd14-77b8f81ed6d7",
   "metadata": {},
   "source": [
    "# ------------------------------LAB No 6-----------------------------------------"
   ]
  },
  {
   "cell_type": "markdown",
   "id": "f21ae6ba-f377-4bf5-9d95-44336f0430a8",
   "metadata": {},
   "source": [
    "## question 1\n",
    "1.\tWrite a Python class called Rectangle that has attributes length and width.\n",
    "2.\t Implement methods to calculate the area and perimeter of the rectangle.\r\n",
    "\r\n"
   ]
  },
  {
   "cell_type": "code",
   "execution_count": 1,
   "id": "d280e6e4-4f08-43c8-b753-d5e527fe6e24",
   "metadata": {},
   "outputs": [
    {
     "name": "stdout",
     "output_type": "stream",
     "text": [
      "Length: 5\n",
      "Width: 3\n",
      "Area: 15\n",
      "Perimeter: 16\n"
     ]
    }
   ],
   "source": [
    "class Rectangle:\n",
    "    def __init__(self, length, width):\n",
    "        \"\"\"Initialize the rectangle with length and width.\"\"\"\n",
    "        self.length = length\n",
    "        self.width = width\n",
    "    \n",
    "    def area(self):\n",
    "        \"\"\"Calculate the area of the rectangle.\"\"\"\n",
    "        return self.length * self.width\n",
    "    \n",
    "    def perimeter(self) :\n",
    "        \"\"\"Calculate the perimeter of the rectangle.\"\"\"\n",
    "        return 2 * (self.length + self.width)\n",
    "\n",
    "# Example usage:\n",
    "# Create a rectangle with length 5 and width 3\n",
    "rect = Rectangle(5, 3)\n",
    "\n",
    "# Print the area and perimeter of the rectangle\n",
    "print(f\"Length: {rect.length}\")\n",
    "print(f\"Width: {rect.width}\")\n",
    "print(f\"Area: {rect.area()}\")\n",
    "print(f\"Perimeter: {rect.perimeter()}\")\n"
   ]
  },
  {
   "cell_type": "markdown",
   "id": "48aca4b3-9a03-49b0-972d-a78325033913",
   "metadata": {},
   "source": [
    "## Question2\n",
    "2.\tCreate a class hierarchy in Python consisting of a base class called Animal, and derived classes Dog, Cat, and Bird. Each derived class should have its unique method. Instantiate objects of each class and demonstrate polymorphism by calling a common method on each object.\n",
    "   "
   ]
  },
  {
   "cell_type": "code",
   "execution_count": 2,
   "id": "c48f2c41-4c59-4ef8-8a33-017810e6e112",
   "metadata": {},
   "outputs": [
    {
     "name": "stdout",
     "output_type": "stream",
     "text": [
      "Dog says: Woof!\n",
      "Cat says: Meow!\n",
      "Bird says: Tweet!\n",
      "Fetching the ball!\n",
      "Purring softly...\n",
      "Flying in the sky!\n"
     ]
    }
   ],
   "source": [
    "class Animal:\n",
    "    def speak(self) -> str:\n",
    "        \"\"\"Common method for all animals.\"\"\"\n",
    "        return \"Some generic animal sound\"\n",
    "\n",
    "class Dog(Animal):\n",
    "    def speak(self) -> str:\n",
    "        \"\"\"Override the common method for Dog.\"\"\"\n",
    "        return \"Woof!\"\n",
    "\n",
    "    def fetch(self) -> str:\n",
    "        \"\"\"Unique method for Dog.\"\"\"\n",
    "        return \"Fetching the ball!\"\n",
    "\n",
    "class Cat(Animal):\n",
    "    def speak(self) -> str:\n",
    "        \"\"\"Override the common method for Cat.\"\"\"\n",
    "        return \"Meow!\"\n",
    "\n",
    "    def purr(self) -> str:\n",
    "        \"\"\"Unique method for Cat.\"\"\"\n",
    "        return \"Purring softly...\"\n",
    "\n",
    "class Bird(Animal):\n",
    "    def speak(self) -> str:\n",
    "        \"\"\"Override the common method for Bird.\"\"\"\n",
    "        return \"Tweet!\"\n",
    "\n",
    "    def fly(self) -> str:\n",
    "        \"\"\"Unique method for Bird.\"\"\"\n",
    "        return \"Flying in the sky!\"\n",
    "\n",
    "# Instantiate objects of each derived class\n",
    "dog = Dog()\n",
    "cat = Cat()\n",
    "bird = Bird()\n",
    "\n",
    "# Demonstrate polymorphism by calling the common method on each object\n",
    "animals = [dog, cat, bird]\n",
    "\n",
    "for animal in animals:\n",
    "    print(f\"{animal.__class__.__name__} says: {animal.speak()}\")\n",
    "\n",
    "# Demonstrate unique methods\n",
    "print(dog.fetch())\n",
    "print(cat.purr())\n",
    "print(bird.fly())\n"
   ]
  },
  {
   "cell_type": "markdown",
   "id": "eab31157-bbaa-4916-9a91-e74a7426ecb1",
   "metadata": {},
   "source": [
    "## Question 3\n",
    "3.\tWrite a Python class called Shape with a method area() that returns the area of the shape. Create two subclasses, Rectangle and Circle, each overriding the area() method to calculate the area of the specific shape. Instantiate objects of each class and display their areas.\r\n",
    "\r\n"
   ]
  },
  {
   "cell_type": "code",
   "execution_count": 3,
   "id": "c601e9e2-4a38-43d3-9615-1fe274a39853",
   "metadata": {},
   "outputs": [
    {
     "name": "stdout",
     "output_type": "stream",
     "text": [
      "Area of Rectangle: 15\n",
      "Area of Circle: 50.26548245743669\n"
     ]
    }
   ],
   "source": [
    "import math\n",
    "\n",
    "class Shape:\n",
    "    def area(self):\n",
    "        \"\"\"Base method to be overridden by subclasses.\"\"\"\n",
    "        raise NotImplementedError(\"Subclasses must implement the area method.\")\n",
    "\n",
    "class Rectangle(Shape):\n",
    "    def __init__(self, length: float, width: float):\n",
    "        \"\"\"Initialize the rectangle with length and width.\"\"\"\n",
    "        self.length = length\n",
    "        self.width = width\n",
    "\n",
    "    def area(self) -> float:\n",
    "        \"\"\"Calculate the area of the rectangle.\"\"\"\n",
    "        return self.length * self.width\n",
    "\n",
    "class Circle(Shape):\n",
    "    def __init__(self, radius: float):\n",
    "        \"\"\"Initialize the circle with radius.\"\"\"\n",
    "        self.radius = radius\n",
    "\n",
    "    def area(self) -> float:\n",
    "        \"\"\"Calculate the area of the circle.\"\"\"\n",
    "        return math.pi * self.radius ** 2\n",
    "\n",
    "# Example usage:\n",
    "# Create instances of Rectangle and Circle\n",
    "rect = Rectangle(length=5, width=3)\n",
    "circ = Circle(radius=4)\n",
    "\n",
    "# Print the areas\n",
    "print(f\"Area of Rectangle: {rect.area()}\")\n",
    "print(f\"Area of Circle: {circ.area()}\")\n"
   ]
  },
  {
   "cell_type": "code",
   "execution_count": null,
   "id": "585fe538-5bb6-455f-ae4e-1ca937b18576",
   "metadata": {},
   "outputs": [],
   "source": []
  }
 ],
 "metadata": {
  "kernelspec": {
   "display_name": "Python 3 (ipykernel)",
   "language": "python",
   "name": "python3"
  },
  "language_info": {
   "codemirror_mode": {
    "name": "ipython",
    "version": 3
   },
   "file_extension": ".py",
   "mimetype": "text/x-python",
   "name": "python",
   "nbconvert_exporter": "python",
   "pygments_lexer": "ipython3",
   "version": "3.11.7"
  }
 },
 "nbformat": 4,
 "nbformat_minor": 5
}
