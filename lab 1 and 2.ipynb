{
 "cells": [
  {
   "cell_type": "markdown",
   "id": "a40d97ba-bb37-40f5-a9f0-a230b1195063",
   "metadata": {},
   "source": [
    "# LAB 1 AND LAB2"
   ]
  },
  {
   "cell_type": "code",
   "execution_count": 5,
   "id": "a7434778-8d87-4e2d-9e82-0f254124577d",
   "metadata": {},
   "outputs": [
    {
     "name": "stdout",
     "output_type": "stream",
     "text": [
      "iam a data scienctist \n"
     ]
    }
   ],
   "source": [
    "print (\"iam a data scienctist \")"
   ]
  },
  {
   "cell_type": "code",
   "execution_count": 3,
   "id": "9023bc1b-3b72-46c9-a929-149c5a75a743",
   "metadata": {},
   "outputs": [
    {
     "name": "stdout",
     "output_type": "stream",
     "text": [
      "12\n"
     ]
    }
   ],
   "source": [
    "a=3\n",
    "b=9\n",
    "sum=a+b\n",
    "print(sum)"
   ]
  },
  {
   "cell_type": "code",
   "execution_count": 3,
   "id": "fdd081eb-91d4-4e5e-bd0a-432414ea029b",
   "metadata": {},
   "outputs": [
    {
     "name": "stdout",
     "output_type": "stream",
     "text": [
      "7 * 1 =7.\n"
     ]
    }
   ],
   "source": [
    "a=7\n",
    "print(f\")\n"
   ]
  },
  {
   "cell_type": "markdown",
   "id": "de09bae0-b191-411e-b9cf-583c92fff415",
   "metadata": {},
   "source": [
    "●\tFor each of the following expressions, what value will the expression give? Verify your answers by typing the expressions into Python.\r\n",
    "\r\n",
    "a.\t9 - 3\r\n",
    "b.\t8 * 2.5\r\n",
    "c.\t9 / 2\r\n",
    "d.\t9 / -2\r\n",
    "e.\t9 // -2\r\n",
    "f.\t9 % 2\r\n",
    "g.\t9.0 % 2\r\n",
    "h.\t9 % 2.0\r\n",
    "i.\t9 % -2\r\n",
    "j.\t-9 % 2\r\n",
    "k.\t9 / -2.0\r\n",
    "l.\t4 + 3 * 5\r\n",
    "m.\t(4 + 3) * 5\r\n"
   ]
  },
  {
   "cell_type": "code",
   "execution_count": 11,
   "id": "0873bc6c-7a5a-4a19-9bc2-cdad2894ceb4",
   "metadata": {},
   "outputs": [
    {
     "name": "stdout",
     "output_type": "stream",
     "text": [
      "6\n",
      "20.0\n",
      "4.5\n",
      "4\n",
      "1\n",
      "1.0\n",
      "-1\n",
      "1\n",
      "35\n"
     ]
    }
   ],
   "source": [
    "print(9-3)\n",
    "print(8*2.5)\n",
    "print(9/2)\n",
    "print(9//2)\n",
    "print(9%2)\n",
    "print(9.0%2)\n",
    "print(9%-2)\n",
    "print(-9%2)\n",
    "print((4 + 3) * 5)"
   ]
  },
  {
   "cell_type": "markdown",
   "id": "95373518-6e75-45bf-bd57-92e25b370e08",
   "metadata": {},
   "source": [
    "●\tWrite a program that asks the user to enter two numbers, obtains the two numbers from the user and prints the sum, product, difference, quotient and remainder of the two numbers. Sample output is as following:\r\n",
    "\r\n"
   ]
  },
  {
   "cell_type": "code",
   "execution_count": 12,
   "id": "5e922867-4c10-423c-8cf6-1575897aa41c",
   "metadata": {},
   "outputs": [
    {
     "name": "stdin",
     "output_type": "stream",
     "text": [
      "enter first number: 80\n",
      "enter 2nd number: 43\n"
     ]
    },
    {
     "name": "stdout",
     "output_type": "stream",
     "text": [
      "the sum is : 123\n",
      "the product is: 3440\n",
      "the difference is:  37\n",
      "Qoutient: 1.8604651162790697\n",
      "Remainder :  37\n"
     ]
    }
   ],
   "source": [
    "a=int(input(\"enter first number:\"))\n",
    "b=int(input(\"enter 2nd number:\"))\n",
    "print(\"the sum is :\",a+b)\n",
    "print(\"the product is:\",a*b)\n",
    "print(\"the difference is: \",a-b)\n",
    "print(\"Qoutient:\",a/b)\n",
    "print(\"Remainder : \",a%b)"
   ]
  },
  {
   "cell_type": "markdown",
   "id": "ff149b89-5144-4741-a3c8-3d9ba7fe4fd1",
   "metadata": {},
   "source": [
    "●\tWrite a program that reads in the radius of a circle and prints the circle’s diameter, circumference and area. Use the constant value 3.14159 for π. Perform each of these calculations inside the print statement()."
   ]
  },
  {
   "cell_type": "code",
   "execution_count": 13,
   "id": "82f58b80-a8de-403e-8259-4d6672dda1af",
   "metadata": {},
   "outputs": [
    {
     "name": "stdin",
     "output_type": "stream",
     "text": [
      "Enter the radius of the circle:  4.5\n"
     ]
    },
    {
     "name": "stdout",
     "output_type": "stream",
     "text": [
      "Diameter of the circle: 9.0\n",
      "Circumference of the circle: 28.27431\n",
      "Area of the circle: 63.6171975\n"
     ]
    }
   ],
   "source": [
    "radius = float(input(\"Enter the radius of the circle: \"))\n",
    "print(\"Diameter of the circle:\", 2 * radius)\n",
    "print(\"Circumference of the circle:\", 2 * 3.14159 * radius)\n",
    "print(\"Area of the circle:\", 3.14159 * radius * radius)"
   ]
  },
  {
   "cell_type": "markdown",
   "id": "40534924-a2ae-4292-b1e2-b56fc5783405",
   "metadata": {},
   "source": [
    "●\tWrite a program that produces the following output using variables instead of hardcoding:\r\n",
    "\r\n",
    "HHHHHH\r\n",
    "   HHHHH\r\n",
    "         HHH\r\n",
    "            HH\r\n",
    "               H\r\n"
   ]
  },
  {
   "cell_type": "code",
   "execution_count": 14,
   "id": "3587f9f2-5a75-4ca0-a7b2-9b5f5b42e07d",
   "metadata": {},
   "outputs": [
    {
     "name": "stdout",
     "output_type": "stream",
     "text": [
      "HHHHHH\n",
      "   HHHH\n",
      "      HHH\n",
      "         HH\n",
      "            H\n"
     ]
    }
   ],
   "source": [
    "print(\"HHHHHH\\n   HHHH\\n      HHH\\n         HH\\n            H\")"
   ]
  },
  {
   "cell_type": "markdown",
   "id": "8ae67ab7-2aee-475d-911d-5e27757bb140",
   "metadata": {},
   "source": [
    "                    *********Decision Making using Condition Statements and Logical Operators*******"
   ]
  },
  {
   "cell_type": "markdown",
   "id": "575a7f04-e1f7-4129-a95c-6bbf8944021e",
   "metadata": {},
   "source": [
    "●\tWrite a program that reads an integer and determines and prints whether it is odd or even."
   ]
  },
  {
   "cell_type": "code",
   "execution_count": 15,
   "id": "9aa3d3f5-b6f6-4fc5-8d8f-2185dafe031d",
   "metadata": {},
   "outputs": [
    {
     "name": "stdin",
     "output_type": "stream",
     "text": [
      "please Enter an integer:  6\n"
     ]
    },
    {
     "name": "stdout",
     "output_type": "stream",
     "text": [
      "the number 6 you enter is an integer\n"
     ]
    }
   ],
   "source": [
    "num=int(input(\"please Enter an integer: \"))\n",
    "if num%2==0:\n",
    "    print(f\"the number {num} you enter is an integer\")\n",
    "else:\n",
    "    print(\"the number you enter is an odd \")"
   ]
  },
  {
   "cell_type": "markdown",
   "id": "64e39c61-494c-4541-8b1a-255778498de1",
   "metadata": {},
   "source": [
    "●\tWrite a program that inputs three different integers from the keyboard, and then prints the smallest and the largest of these numbers. Use only the single-selection form of the if statement that you learned in the class. The screen dialogue should appear as follows:"
   ]
  },
  {
   "cell_type": "code",
   "execution_count": null,
   "id": "4498d6c5-669a-4ba0-9e7f-c7be90c0f049",
   "metadata": {},
   "outputs": [],
   "source": [
    "\n",
    "num1 = int(input(\"Enter the first integer: \"))\n",
    "num2 = int(input(\"Enter the second integer: \"))\n",
    "num3 = int(input(\"Enter the third integer: \"))\n",
    "\n",
    "# Initialize the smallest and largest with the first number\n",
    "smallest = num1\n",
    "largest = num1\n",
    "\n",
    "# Determine the smallest number\n",
    "if num2 < smallest:\n",
    "    smallest = num2\n",
    "if num3 < smallest:\n",
    "    smallest = num3\n",
    "\n",
    "# Determine the largest number\n",
    "if num2 > largest:\n",
    "    largest = num2\n",
    "if num3 > largest:\n",
    "    largest = num3\n",
    "\n",
    "# Print the results\n",
    "print(\"The smallest number is:\", smallest)\n",
    "print(\"The largest number is:\", largest)\n"
   ]
  },
  {
   "cell_type": "markdown",
   "id": "b7fa88fa-4bc4-483c-bc1d-6a90d6651851",
   "metadata": {},
   "source": [
    "\r\n",
    "●\tWhich of the following expressions results in SyntaxErrors? Identify the syntax SyntaxErrors and type the reason of error along with the correct code by mentioning its sequence number.\r\n",
    "\r\n",
    "n.\t6 * -----------8\r\n",
    "o.\t8 = people\r\n",
    "p.\t((((4 ** 3))))\r\n",
    "q.\t(-(-(-(-5))))\r\n",
    "r.\t4 += 7 / 2\r\n"
   ]
  },
  {
   "cell_type": "code",
   "execution_count": 18,
   "id": "d22495b8-07ea-410d-9cdb-d1deda1a2c78",
   "metadata": {},
   "outputs": [
    {
     "name": "stdout",
     "output_type": "stream",
     "text": [
      "-48\n",
      "64\n",
      "5\n"
     ]
    }
   ],
   "source": [
    "print(6 * -----------8)\n",
    "#print(8 = people)    Error\n",
    "print(((((4 ** 3)))))\n",
    "print((-(-(-(-5)))))\n",
    "#print(4 += 7 / 2)   error"
   ]
  },
  {
   "cell_type": "code",
   "execution_count": null,
   "id": "3b87c90c-58cc-45ac-918f-fce2a46896c4",
   "metadata": {},
   "outputs": [],
   "source": [
    "●\tUsing only the techniques you have learned so far, write a program that calculates the square and cube of the numbers from 0 to 10 and\n",
    "uses tabs to print the following table of values:\n"
   ]
  },
  {
   "cell_type": "code",
   "execution_count": 8,
   "id": "fc736b89-3ad5-47ff-ba65-bd9b2c8b89bd",
   "metadata": {},
   "outputs": [
    {
     "name": "stdout",
     "output_type": "stream",
     "text": [
      "number\tsquare\tcube\n",
      "0\t 0\t0.\n",
      "1\t 1\t1.\n",
      "2\t 4\t8.\n",
      "3\t 9\t27.\n",
      "4\t 16\t64.\n",
      "5\t 25\t125.\n",
      "6\t 36\t216.\n",
      "7\t 49\t343.\n",
      "8\t 64\t512.\n"
     ]
    }
   ],
   "source": [
    "print (\"number\\t square\\tcube\")\n",
    "x=0\n",
    "print(f\"{x}\\t {x**2}\\t{x**3}.\")\n",
    "x=1\n",
    "print(f\"{x}\\t {x**2}\\t{x**3}.\")\n",
    "x=2\n",
    "print(f\"{x}\\t {x**2}\\t{x**3}.\")\n",
    "x=3\n",
    "print(f\"{x}\\t {x**2}\\t{x**3}.\")\n",
    "x=4\n",
    "print(f\"{x}\\t {x**2}\\t{x**3}.\")\n",
    "x=5\n",
    "print(f\"{x}\\t {x**2}\\t{x**3}.\")\n",
    "x=6\n",
    "print(f\"{x}\\t {x**2}\\t{x**3}.\")\n",
    "x=7\n",
    "print(f\"{x}\\t {x**2}\\t{x**3}.\")\n",
    "x=8\n",
    "print(f\"{x}\\t {x**2}\\t{x**3}.\")\n",
    "\n"
   ]
  },
  {
   "cell_type": "code",
   "execution_count": null,
   "id": "56c65334-76c5-46cc-960e-ed298b0cf72f",
   "metadata": {},
   "outputs": [],
   "source": [
    "●\tWrite a program that assigns values to two variables and then swap their values. *\n",
    "\t"
   ]
  },
  {
   "cell_type": "code",
   "execution_count": 10,
   "id": "9c583a12-f453-4910-90a5-6f249347a8e9",
   "metadata": {},
   "outputs": [
    {
     "name": "stdout",
     "output_type": "stream",
     "text": [
      "before swap 5 7\n",
      "After sawap 7 5\n"
     ]
    }
   ],
   "source": [
    "p,q=5,7\n",
    "print(\"before swap\",p,q)\n",
    "temp=p\n",
    "p=q\n",
    "q=temp\n",
    "\n",
    "print(\"After sawap\",p,q)\n",
    "\n"
   ]
  },
  {
   "cell_type": "markdown",
   "id": "20da037a-c496-4b74-ae29-3913f2818c4c",
   "metadata": {},
   "source": [
    "●\tWrite a program that inputs one five-digit number, generates its reverse and displays the reverse on screen.(Hint: Make use of the arithmetic operators modulus (%) and floor (// )\r\n",
    "\r\n"
   ]
  },
  {
   "cell_type": "code",
   "execution_count": 19,
   "id": "a234b80c-2e92-4b64-8549-b9dd03e79628",
   "metadata": {},
   "outputs": [
    {
     "name": "stdin",
     "output_type": "stream",
     "text": [
      "Please Enter a five digit number :  54321\n"
     ]
    },
    {
     "name": "stdout",
     "output_type": "stream",
     "text": [
      "The reversed number is: 12345\n"
     ]
    }
   ],
   "source": [
    "number=int(input(\"Please Enter a five digit number : \"))\n",
    "\n",
    "# Extract each digit using modulus and floor division\n",
    "digit1 = number % 10  # Extract the last digit\n",
    "number = number // 10  # Remove the last digit\n",
    "\n",
    "digit2 = number % 10  # Extract the second last digit\n",
    "number = number // 10  # Remove the second last digit\n",
    "\n",
    "digit3 = number % 10  # Extract the third last digit\n",
    "number = number // 10  # Remove the third last digit\n",
    "\n",
    "digit4 = number % 10  # Extract the fourth last digit\n",
    "number = number // 10  # Remove the fourth last digit\n",
    "\n",
    "digit5 = number % 10  # The first digit\n",
    "\n",
    "# Generate the reversed number\n",
    "reversed_number = digit1 * 10000 + digit2 * 1000 + digit3 * 100 + digit4 * 10 + digit5\n",
    "\n",
    "# Display the reversed number\n",
    "print(\"The reversed number is:\", reversed_number)\n"
   ]
  },
  {
   "cell_type": "code",
   "execution_count": null,
   "id": "568ddc45-db72-4648-9424-565b7e1270bb",
   "metadata": {},
   "outputs": [],
   "source": [
    "●\tUsing whatever we have learned so far, write a program that prints a box, an oval, an arrow and a diamond as follows:\n",
    "\n"
   ]
  },
  {
   "cell_type": "code",
   "execution_count": 20,
   "id": "f043ab27-2431-45c8-93b8-35dfa767151a",
   "metadata": {},
   "outputs": [
    {
     "name": "stdout",
     "output_type": "stream",
     "text": [
      "*********\n",
      "*       *\n",
      "*       *\n",
      "*       *\n",
      "*********\n",
      "   ***   \n",
      " *     * \n",
      "*       *\n",
      " *     * \n",
      "   ***   \n",
      "    *    \n",
      "   ***   \n",
      "  *****  \n",
      "    *    \n",
      "    *    \n",
      "    *    \n",
      "    *    \n",
      "    *    \n",
      "   * *   \n",
      "  *   *  \n",
      " *     * \n",
      "  *   *  \n",
      "   * *   \n",
      "    *    \n"
     ]
    }
   ],
   "source": [
    "# Print a box\n",
    "print(\"*********\")\n",
    "print(\"*       *\")\n",
    "print(\"*       *\")\n",
    "print(\"*       *\")\n",
    "print(\"*********\")\n",
    "\n",
    "# Print an oval\n",
    "print(\"   ***   \")\n",
    "print(\" *     * \")\n",
    "print(\"*       *\")\n",
    "print(\" *     * \")\n",
    "print(\"   ***   \")\n",
    "\n",
    "# Print an arrow\n",
    "print(\"    *    \")\n",
    "print(\"   ***   \")\n",
    "print(\"  *****  \")\n",
    "print(\"    *    \")\n",
    "print(\"    *    \")\n",
    "print(\"    *    \")\n",
    "print(\"    *    \")\n",
    "\n",
    "# Print a diamond\n",
    "print(\"    *    \")\n",
    "print(\"   * *   \")\n",
    "print(\"  *   *  \")\n",
    "print(\" *     * \")\n",
    "print(\"  *   *  \")\n",
    "print(\"   * *   \")\n",
    "print(\"    *    \")\n"
   ]
  },
  {
   "cell_type": "code",
   "execution_count": null,
   "id": "a8e130d9-2edf-4648-91b6-28ca12f5e54a",
   "metadata": {},
   "outputs": [],
   "source": [
    "●\tWrite a program that reads three nonzero integers and determines and prints if they could be the sides of a right triangle. \n",
    "(Hint : use Pythagoras theorem you learned in mathematics during FSC or matric , try different combinations of the same integers )\n",
    "\n"
   ]
  },
  {
   "cell_type": "code",
   "execution_count": 22,
   "id": "83d6c44b-e9f3-4a6c-87d1-7a4a962b9207",
   "metadata": {},
   "outputs": [
    {
     "name": "stdin",
     "output_type": "stream",
     "text": [
      "Enter the first side:  67\n",
      "Enter the second side:  86\n",
      "Enter the third side:  44\n"
     ]
    },
    {
     "name": "stdout",
     "output_type": "stream",
     "text": [
      "These sides 67, 86, 44 cannot form a right triangle.\n"
     ]
    }
   ],
   "source": [
    "\n",
    "a = int(input(\"Enter the first side: \"))\n",
    "b = int(input(\"Enter the second side: \"))\n",
    "c = int(input(\"Enter the third side: \"))\n",
    "\n",
    "\n",
    "if a**2 + b**2 == c**2:\n",
    "    print(f\"These sides {a}, {b}, {c} can form a right triangle.\")\n",
    "elif a**2 + c**2 == b**2:\n",
    "    print(f\"These sides {a}, {b}, {c} can form a right triangle.\")\n",
    "elif b**2 + c**2 == a**2:\n",
    "    print(f\"These sides {a}, {b}, {c} can form a right triangle.\")\n",
    "else:\n",
    "    print(f\"These sides {a}, {b}, {c} cannot form a right triangle.\")\n"
   ]
  },
  {
   "cell_type": "markdown",
   "id": "8e0ca160-6157-4c07-9773-05ca0dcf5a61",
   "metadata": {},
   "source": [
    "●\tWrite a program to prompt for a score between 0.0 and 1.0. If the score is out of range, print an error message. If the score is between 0.0 and 1.0, print a grade using the following table:"
   ]
  },
  {
   "cell_type": "code",
   "execution_count": 31,
   "id": "07084b8f-6113-461f-bc7f-b77af34d48ed",
   "metadata": {},
   "outputs": [
    {
     "name": "stdin",
     "output_type": "stream",
     "text": [
      "please enter a numberr from 0.0 to 1.0 : 7\n"
     ]
    },
    {
     "name": "stdout",
     "output_type": "stream",
     "text": [
      "B\n"
     ]
    }
   ],
   "source": [
    "score=float(input(\"please enter a numberr from 0.0 to 1.0 :\"))\n",
    "\n",
    "if score>=0.9 and score <1:\n",
    "    print(\"A\")\n",
    "elif score>=0.8:\n",
    "    print(\"B\")\n",
    "elif score>=0.7:\n",
    "    print(\"c\")\n",
    "elif score>=0.6:\n",
    "    print(\"D\")\n",
    "elif score<0.6:\n",
    "    print(\"F\")\n",
    "elif score>1 or score<0 :\n",
    "    print(\"score out of range\")"
   ]
  },
  {
   "cell_type": "markdown",
   "id": "cacf8941-9c1a-4e5b-a286-95a649d17952",
   "metadata": {},
   "source": [
    "Write a program that asks the user for an hour between 1 and 12, asks them to enter am or pm, and asks them how many hours\n",
    "into the future they want to go. Print out what the hour will be that many hours into the future,\n",
    "printing am or pm as appropriate. An example is shown below.\n"
   ]
  },
  {
   "cell_type": "code",
   "execution_count": null,
   "id": "7364bd49-b78a-4083-a0da-77967e2b96cc",
   "metadata": {},
   "outputs": [],
   "source": [
    "\n",
    "current_hour = int(input(\"Enter the current hour (1-12): \"))\n",
    "period = input(\"Enter AM or PM: \").strip().upper()\n",
    "hours_to_advance = int(input(\"Enter the number of hours into the future: \"))\n",
    "\n",
    "# Validate the inputs\n",
    "if not (1 <= current_hour <= 12):\n",
    "    print(\"Invalid hour. Please enter a number between 1 and 12.\")\n",
    "    exit()\n",
    "if period not in [\"AM\", \"PM\"]:\n",
    "    print(\"Invalid period. Please enter AM or PM.\")\n",
    "    exit()\n",
    "if hours_to_advance < 0:\n",
    "    print(\"Invalid number of hours. Please enter a non-negative number.\")\n",
    "    exit()\n",
    "\n",
    "# Calculate the total hours and determine the new period\n",
    "total_hours = (current_hour % 12) + hours_to_advance\n",
    "new_period = period\n",
    "\n",
    "# Determine the new hour and period\n",
    "new_hour = total_hours % 12\n",
    "if new_hour == 0:\n",
    "    new_hour = 12\n",
    "if (total_hours // 12) % 2 == 1:\n",
    "    new_period = \"AM\" if period == \"PM\" else \"PM\"\n",
    "\n",
    "# Print the result\n",
    "print(f\"The time {hours_to_advance} hours into the future will be {new_hour} {new_period}.\")\n"
   ]
  },
  {
   "cell_type": "code",
   "execution_count": null,
   "id": "9ab0d3fa-b2ea-4f18-aef9-fdea5878bb04",
   "metadata": {},
   "outputs": [],
   "source": [
    "A palindrome is a number or a text phrase that reads the same backwards as forwards. For example,\n",
    "each of the following five-digit integers are palindromes: 12321, 55555, 45554 and 11611.\n",
    "Write a program that reads in a five-digit integer and determines whether or not it is a palindrome. \n",
    "\n"
   ]
  },
  {
   "cell_type": "code",
   "execution_count": 33,
   "id": "ad011d38-6650-4447-a9a4-514e6f9737a3",
   "metadata": {},
   "outputs": [
    {
     "name": "stdin",
     "output_type": "stream",
     "text": [
      "Enter a five-digit integer:  55555\n"
     ]
    },
    {
     "name": "stdout",
     "output_type": "stream",
     "text": [
      "55555 is a palindrome.\n"
     ]
    }
   ],
   "source": [
    "\n",
    "number = input(\"Enter a five-digit integer: \")\n",
    "\n",
    "# Check if the input is a valid five-digit number\n",
    "if len(number) != 5 or not number.isdigit():\n",
    "    print(\"The number must be exactly five digits.\")\n",
    "else:\n",
    "    # Check if the number is a palindrome\n",
    "    if number == number[::-1]:\n",
    "        print(f\"{number} is a palindrome.\")\n",
    "    else:\n",
    "        print(f\"{number} is not a palindrome.\")\n"
   ]
  },
  {
   "cell_type": "markdown",
   "id": "6a01ca2f-b1fd-450d-a23e-0b4aae99f818",
   "metadata": {},
   "source": [
    "***************************************************************************************************************************\n",
    "                                      ******* the end of lab 1 and 2 ***********\n",
    "\n",
    "*****************************************************************************************************************************\n",
    "****************************************************************************************************************************"
   ]
  },
  {
   "cell_type": "code",
   "execution_count": 11,
   "id": "c1bc5ab1-7d2c-493f-86c4-c4cbde1e0f5e",
   "metadata": {},
   "outputs": [
    {
     "name": "stdout",
     "output_type": "stream",
     "text": [
      "[12, 13, 'apple', 'orange']\n",
      "13\n"
     ]
    },
    {
     "data": {
      "text/plain": [
       "[12, 13, 'apple', 'pineapple']"
      ]
     },
     "execution_count": 11,
     "metadata": {},
     "output_type": "execute_result"
    }
   ],
   "source": []
  },
  {
   "cell_type": "code",
   "execution_count": 14,
   "id": "36c6e28d-e17d-4f5d-9826-ed7243669372",
   "metadata": {},
   "outputs": [
    {
     "name": "stdout",
     "output_type": "stream",
     "text": [
      "[1, 2, 3, 4]\n",
      "[1, 4, 2, 3]\n",
      "[1, 3, 2]\n",
      "[1, 3]\n",
      "2\n",
      "[1, 2, 3]\n"
     ]
    }
   ],
   "source": [
    "#1. append() - adds an element to the end of list\n",
    "my_list = [1, 2, 3]\n",
    "my_list.append(4)\n",
    "print(my_list)  # Output: [1, 2, 3, 4]\n",
    "#2. insert() - adds an element at a specific position\n",
    "my_list = [1, 2, 3]\n",
    "my_list.insert(1, 4)\n",
    "print(my_list)  # Output: [1, 4, 2, 3]\n",
    "#3. remove() - removes the first occurrence of an element\n",
    "my_list = [1, 2, 3, 2]\n",
    "my_list.remove(2)\n",
    "print(my_list)  # Output: [1, 3, 2]\n",
    "#4. pop() - removes and returns an element at a specific position\n",
    "my_list = [1, 2, 3]\n",
    "popped_element = my_list.pop(1)\n",
    "print(my_list)  # Output: [1, 3]\n",
    "print(popped_element)  # Output: 2\n",
    "#5. sort() - sorts the list in ascending order\n",
    "my_list = [3, 2, 1]\n",
    "my_list.sort()\n",
    "print(my_list)  # Output: [1, 2, 3]\n",
    "#6. reverse() - reverses the list\n"
   ]
  },
  {
   "cell_type": "code",
   "execution_count": null,
   "id": "9f1ca8b4-9b05-4960-bae3-9ad0ec29dace",
   "metadata": {},
   "outputs": [],
   "source": []
  }
 ],
 "metadata": {
  "kernelspec": {
   "display_name": "Python 3 (ipykernel)",
   "language": "python",
   "name": "python3"
  },
  "language_info": {
   "codemirror_mode": {
    "name": "ipython",
    "version": 3
   },
   "file_extension": ".py",
   "mimetype": "text/x-python",
   "name": "python",
   "nbconvert_exporter": "python",
   "pygments_lexer": "ipython3",
   "version": "3.11.7"
  }
 },
 "nbformat": 4,
 "nbformat_minor": 5
}
