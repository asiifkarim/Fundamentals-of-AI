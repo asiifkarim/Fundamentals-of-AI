{
 "cells": [
  {
   "cell_type": "markdown",
   "id": "f94a1c78-767a-42a9-bea6-26856fb130c6",
   "metadata": {},
   "source": [
    "# Lab 05: String and List Methods\n",
    "\n"
   ]
  },
  {
   "cell_type": "markdown",
   "id": "0d04a9da-166e-43f7-a126-1b1710c72e73",
   "metadata": {},
   "source": [
    "## task1\n",
    "1.\tWrite a program that inputs a line of text. Output the text in uppercase letters and in lowercase letters using built-in functions."
   ]
  },
  {
   "cell_type": "code",
   "execution_count": 2,
   "id": "d16cacb0-ec92-4463-a31c-6de1acbdc87a",
   "metadata": {},
   "outputs": [
    {
     "name": "stdin",
     "output_type": "stream",
     "text": [
      "pleasen enter a line of text . the king is very Bad\n"
     ]
    },
    {
     "name": "stdout",
     "output_type": "stream",
     "text": [
      "THE KING IS VERY BAD\n",
      "the king is very bad\n"
     ]
    }
   ],
   "source": [
    "text=input(\"pleasen enter a line of text .\")\n",
    "print(text.upper())\n",
    "print(text.lower())"
   ]
  },
  {
   "cell_type": "markdown",
   "id": "0a35e9da-1883-46ed-8089-0392627f480f",
   "metadata": {},
   "source": [
    "## task2 \n",
    "2.\tA simple way to estimate the number of words in a string is to count the number of spaces in the string. Write a program that asks the user for a string and returns an estimate of how many words are in the string"
   ]
  },
  {
   "cell_type": "code",
   "execution_count": 3,
   "id": "e4205b54-aa57-4cb6-be96-923573a3848f",
   "metadata": {},
   "outputs": [
    {
     "name": "stdin",
     "output_type": "stream",
     "text": [
      "Enter a string:  the king ia a good person\n"
     ]
    },
    {
     "name": "stdout",
     "output_type": "stream",
     "text": [
      "Estimated number of words in the string: 6\n"
     ]
    }
   ],
   "source": [
    "def estimate_word_count(s: str) -> int:\n",
    "    # Count the number of spaces in the string\n",
    "    space_count = s.count(' ')\n",
    "    \n",
    "    # Estimate the number of words. Assume there is one more word than the number of spaces.\n",
    "    return space_count + 1\n",
    "\n",
    "# Example usage:\n",
    "user_input = input(\"Enter a string: \")\n",
    "estimated_word_count = estimate_word_count(user_input)\n",
    "print(f\"Estimated number of words in the string: {estimated_word_count}\")\n"
   ]
  },
  {
   "cell_type": "markdown",
   "id": "94feeb28-1d13-45a7-a8a2-91c9442f70a4",
   "metadata": {},
   "source": [
    "### task 4\r\n",
    "Write a program that asks the user to enter a string s and then converts s to lowercase,\r\n",
    "removes all the periods and commas from s, and prints the resulting string.(Hint: use the split method)"
   ]
  },
  {
   "cell_type": "code",
   "execution_count": 4,
   "id": "c11077ce-f60b-45df-a200-d83c1166b5d1",
   "metadata": {},
   "outputs": [
    {
     "name": "stdin",
     "output_type": "stream",
     "text": [
      "Enter a string:  the dog,cat is \n"
     ]
    },
    {
     "name": "stdout",
     "output_type": "stream",
     "text": [
      "Processed string: the dogcat is \n"
     ]
    }
   ],
   "source": [
    "def process_string(s: str) -> str:\n",
    "    # Convert the string to lowercase\n",
    "    s = s.lower()\n",
    "    \n",
    "    # Remove periods and commas by replacing them with empty strings\n",
    "    s = s.replace('.', '')\n",
    "    s = s.replace(',', '')\n",
    "    \n",
    "    return s\n",
    "\n",
    "# Example usage:\n",
    "user_input = input(\"Enter a string: \")\n",
    "result = process_string(user_input)\n",
    "print(\"Processed string:\", result)\n"
   ]
  },
  {
   "cell_type": "markdown",
   "id": "14a9d31a-8a7f-4069-a161-7fbe48565477",
   "metadata": {},
   "source": [
    "### task 4\n",
    "4.\tA variable ids refers to the list [4353, 2314, 2956, 3382, 9362, 3900]. Using list methods, do the following:\r\n",
    "a.\tRemove 3382 from the list.\r\n",
    "b.\tGet the index of 9362.\r\n",
    "c.\tInsert 4499 in the list after 9362.\r\n",
    "d.\tExtend the list by adding [5566, 1830] to it.\r\n",
    "e.\tReverse the list.\r\n",
    "f.\tSort the list.\r\n",
    "\r\n",
    ")\n"
   ]
  },
  {
   "cell_type": "code",
   "execution_count": 7,
   "id": "3d451f05-3fa9-4596-aeaf-1c165c52a50f",
   "metadata": {},
   "outputs": [
    {
     "name": "stdout",
     "output_type": "stream",
     "text": [
      "After removing 3382: [4353, 2314, 2956, 9362, 3900]\n",
      "Index of 9362: 3\n",
      "After inserting 4499: [4353, 2314, 2956, 9362, 4499, 3900]\n",
      "After extending the list: [4353, 2314, 2956, 9362, 4499, 3900, 5566, 1830]\n",
      "After reversing the list: [1830, 5566, 3900, 4499, 9362, 2956, 2314, 4353]\n",
      "After sorting the list: [1830, 2314, 2956, 3900, 4353, 4499, 5566, 9362]\n"
     ]
    }
   ],
   "source": [
    "# Initial list\n",
    "ids = [4353, 2314, 2956, 3382, 9362, 3900]\n",
    "\n",
    "# a. Remove 3382 from the list\n",
    "ids.remove(3382)\n",
    "print(\"After removing 3382:\", ids)\n",
    "\n",
    "# b. Get the index of 9362\n",
    "index_of_9362 = ids.index(9362)\n",
    "print(\"Index of 9362:\", index_of_9362)\n",
    "\n",
    "# c. Insert 4499 in the list after 9362\n",
    "# Insert 4499 at the position immediately after 9362\n",
    "ids.insert(index_of_9362 + 1, 4499)\n",
    "print(\"After inserting 4499:\", ids)\n",
    "\n",
    "# d. Extend the list by adding [5566, 1830] to it\n",
    "ids.extend([5566, 1830])\n",
    "print(\"After extending the list:\", ids)\n",
    "\n",
    "# e. Reverse the list\n",
    "ids.reverse()\n",
    "print(\"After reversing the list:\", ids)\n",
    "\n",
    "# f. Sort the list\n",
    "ids.sort()\n",
    "print(\"After sorting the list:\", ids)\n",
    "\n"
   ]
  },
  {
   "cell_type": "markdown",
   "id": "a6481cab-6eda-49a6-8686-74a25364742b",
   "metadata": {},
   "source": [
    "### task 5\n",
    "5.\tWhen playing games where you have to roll two dice, it is nice to know the odds of each roll. \n",
    "For instance, the odds of rolling a 12 are about 3%, and the odds of rolling a 7 are about 17%. \n",
    "You can compute these mathematically, but if you don’t know the math, you can write a program to do it. \n",
    "To do this, your program should simulate rolling two dice about 10,000 times and compute\n",
    "and print out the percentage of rolls that come out to be 2, 3, 4, . . . , 12. Print the results in a table format.\n",
    "\n"
   ]
  },
  {
   "cell_type": "code",
   "execution_count": 8,
   "id": "f07cd333-12b4-4267-8dde-eebd539c045f",
   "metadata": {},
   "outputs": [
    {
     "name": "stdout",
     "output_type": "stream",
     "text": [
      "Sum   Count      Percentage\n",
      "-------------------------\n",
      "2     258        2.58%\n",
      "3     565        5.65%\n",
      "4     799        7.99%\n",
      "5     1119       11.19%\n",
      "6     1364       13.64%\n",
      "7     1658       16.58%\n",
      "8     1432       14.32%\n",
      "9     1109       11.09%\n",
      "10    821        8.21%\n",
      "11    570        5.70%\n",
      "12    305        3.05%\n"
     ]
    }
   ],
   "source": [
    "import random\n",
    "\n",
    "def roll_two_dice() -> int:\n",
    "    \"\"\"Simulate rolling two dice and return the sum of the two dice.\"\"\"\n",
    "    return random.randint(1, 6) + random.randint(1, 6)\n",
    "\n",
    "def simulate_rolls(num_rolls: int) -> dict:\n",
    "    \"\"\"Simulate rolling two dice `num_rolls` times and count occurrences of each possible sum.\"\"\"\n",
    "    counts = {i: 0 for i in range(2, 13)}  # Dictionary to store counts of each sum from 2 to 12\n",
    "    \n",
    "    for _ in range(num_rolls):\n",
    "        result = roll_two_dice()\n",
    "        counts[result] += 1\n",
    "    \n",
    "    return counts\n",
    "\n",
    "def print_results(counts: dict, num_rolls: int):\n",
    "    \"\"\"Print the percentage of each sum occurring in a table format.\"\"\"\n",
    "    print(f\"{'Sum':<5} {'Count':<10} {'Percentage':<10}\")\n",
    "    print(\"-\" * 25)\n",
    "    \n",
    "    for sum_value in range(2, 13):\n",
    "        count = counts[sum_value]\n",
    "        percentage = (count / num_rolls) * 100\n",
    "        print(f\"{sum_value:<5} {count:<10} {percentage:>.2f}%\")\n",
    "\n",
    "# Number of simulations\n",
    "num_rolls = 10000\n",
    "\n",
    "# Simulate rolling two dice\n",
    "counts = simulate_rolls(num_rolls)\n",
    "\n",
    "# Print the results\n",
    "print_results(counts, num_rolls)\n"
   ]
  },
  {
   "cell_type": "markdown",
   "id": "59def9b0-f463-4741-8fb7-046ac1f1bb11",
   "metadata": {},
   "source": [
    "### task 6\n",
    "6.\tWrite a function each for mean, median and mode that accepts a list as an argument.\n",
    "\t The mean, median, and mode functions return an integer.\n",
    "\n",
    "a.\tUsing these functions, write a program that generates a 99-element list of random numbers \n",
    "between 1 and 100 (inclusive) and computes its mean, median, mode.\n",
    "\n"
   ]
  },
  {
   "cell_type": "code",
   "execution_count": 9,
   "id": "bd284ba7-897e-442d-a46a-c17ce50c5d71",
   "metadata": {},
   "outputs": [
    {
     "name": "stdout",
     "output_type": "stream",
     "text": [
      "List of numbers: [42, 62, 29, 13, 33, 53, 11, 34, 43, 70, 39, 66, 42, 85, 90, 14, 62, 100, 34, 45, 44, 8, 68, 2, 98, 50, 68, 64, 55, 80, 7, 61, 42, 39, 97, 22, 4, 84, 14, 6, 95, 22, 28, 55, 25, 22, 62, 28, 38, 21, 67, 61, 13, 71, 47, 25, 32, 23, 93, 4, 51, 44, 91, 77, 5, 23, 60, 89, 17, 65, 66, 79, 45, 90, 46, 85, 35, 76, 70, 58, 92, 28, 94, 58, 93, 55, 59, 2, 99, 80, 27, 42, 4, 36, 33, 71, 86, 3, 65]\n",
      "Mean: 49\n",
      "Median: 47\n",
      "Mode: 42\n"
     ]
    }
   ],
   "source": [
    "import random\n",
    "from collections import Counter\n",
    "\n",
    "def mean(numbers: list) -> int:\n",
    "    \"\"\"Compute the mean of a list of numbers.\"\"\"\n",
    "    return sum(numbers) // len(numbers)\n",
    "\n",
    "def median(numbers: list) -> int:\n",
    "    \"\"\"Compute the median of a list of numbers.\"\"\"\n",
    "    sorted_numbers = sorted(numbers)\n",
    "    n = len(sorted_numbers)\n",
    "    mid = n // 2\n",
    "    if n % 2 == 0:\n",
    "        # If even number of elements, return the average of the middle two elements\n",
    "        return (sorted_numbers[mid - 1] + sorted_numbers[mid]) // 2\n",
    "    else:\n",
    "        # If odd number of elements, return the middle element\n",
    "        return sorted_numbers[mid]\n",
    "\n",
    "def mode(numbers: list) -> int:\n",
    "    \"\"\"Compute the mode of a list of numbers.\"\"\"\n",
    "    count = Counter(numbers)\n",
    "    max_count = max(count.values())\n",
    "    mode_values = [k for k, v in count.items() if v == max_count]\n",
    "    # If multiple modes exist, return the smallest one\n",
    "    return min(mode_values)\n",
    "\n",
    "# Generate a 99-element list of random numbers between 1 and 100\n",
    "random_numbers = [random.randint(1, 100) for _ in range(99)]\n",
    "\n",
    "# Compute mean, median, and mode\n",
    "mean_value = mean(random_numbers)\n",
    "median_value = median(random_numbers)\n",
    "mode_value = mode(random_numbers)\n",
    "\n",
    "# Print results\n",
    "print(f\"List of numbers: {random_numbers}\")\n",
    "print(f\"Mean: {mean_value}\")\n",
    "print(f\"Median: {median_value}\")\n",
    "print(f\"Mode: {mode_value}\")\n"
   ]
  },
  {
   "cell_type": "markdown",
   "id": "ee755cf4-874d-42ee-aa6d-3a4c71d8e223",
   "metadata": {},
   "source": [
    "### task8\n",
    "8.\tWrite a program that generates 100 random integers that are either 0 or 1. Then find the longest run of zeros, the largest number of zeros in a row. For instance, the longest run of zeros in [1,0,1,1,0,0,0,0,1,0,0] is 4."
   ]
  },
  {
   "cell_type": "code",
   "execution_count": 10,
   "id": "4b39b8c5-02a2-40bf-b6f8-38b9152ff666",
   "metadata": {},
   "outputs": [
    {
     "name": "stdout",
     "output_type": "stream",
     "text": [
      "List of numbers: [0, 0, 1, 0, 0, 0, 1, 0, 0, 0, 0, 1, 1, 1, 1, 0, 0, 0, 1, 1, 1, 0, 0, 0, 1, 0, 0, 1, 1, 0, 1, 0, 1, 1, 0, 1, 0, 0, 1, 0, 1, 0, 0, 1, 1, 1, 1, 1, 0, 0, 0, 0, 1, 0, 1, 0, 1, 1, 0, 1, 0, 1, 1, 1, 0, 1, 0, 0, 1, 1, 1, 0, 1, 1, 1, 1, 0, 1, 0, 1, 1, 1, 1, 1, 1, 0, 0, 0, 1, 1, 1, 1, 0, 0, 0, 1, 0, 1, 0, 1]\n",
      "Longest run of zeros: 4\n"
     ]
    }
   ],
   "source": [
    "import random\n",
    "\n",
    "def longest_run_of_zeros(numbers: list) -> int:\n",
    "    \"\"\"Find the longest run of consecutive zeros in the list.\"\"\"\n",
    "    max_run = 0\n",
    "    current_run = 0\n",
    "    \n",
    "    for num in numbers:\n",
    "        if num == 0:\n",
    "            current_run += 1\n",
    "        else:\n",
    "            if current_run > max_run:\n",
    "                max_run = current_run\n",
    "            current_run = 0\n",
    "    \n",
    "    # Check at the end of the loop in case the longest run ends at the last element\n",
    "    if current_run > max_run:\n",
    "        max_run = current_run\n",
    "    \n",
    "    return max_run\n",
    "\n",
    "# Generate a list of 100 random integers (either 0 or 1)\n",
    "random_numbers = [random.randint(0, 1) for _ in range(100)]\n",
    "\n",
    "# Find the longest run of zeros\n",
    "longest_run = longest_run_of_zeros(random_numbers)\n",
    "\n",
    "# Print results\n",
    "print(f\"List of numbers: {random_numbers}\")\n",
    "print(f\"Longest run of zeros: {longest_run}\")\n"
   ]
  },
  {
   "cell_type": "code",
   "execution_count": null,
   "id": "53aa4748-f7b1-4cde-aaa1-e8bafcad76ac",
   "metadata": {},
   "outputs": [],
   "source": []
  }
 ],
 "metadata": {
  "kernelspec": {
   "display_name": "Python 3 (ipykernel)",
   "language": "python",
   "name": "python3"
  },
  "language_info": {
   "codemirror_mode": {
    "name": "ipython",
    "version": 3
   },
   "file_extension": ".py",
   "mimetype": "text/x-python",
   "name": "python",
   "nbconvert_exporter": "python",
   "pygments_lexer": "ipython3",
   "version": "3.11.7"
  }
 },
 "nbformat": 4,
 "nbformat_minor": 5
}
